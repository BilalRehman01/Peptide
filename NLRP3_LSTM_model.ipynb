{
 "cells": [
  {
   "cell_type": "code",
   "execution_count": null,
   "id": "4f34567c",
   "metadata": {},
   "outputs": [],
   "source": [
    "import numpy as np\n",
    "from keras.preprocessing.text import Tokenizer\n",
    "from keras.utils import np_utils\n",
    "from keras.layers import LSTM, Dense\n",
    "from keras.models import Sequential\n",
    "\n",
    "# Load the peptide sequences from a .txt file\n",
    "with open(\"sequences.txt\", \"r\") as f:\n",
    "    sequences = f.readlines()\n",
    "\n",
    "# Encode the sequences as one-hot vectors\n",
    "tokenizer = Tokenizer(char_level=True)\n",
    "tokenizer.fit_on_texts(sequences)\n",
    "encoded_sequences = tokenizer.texts_to_matrix(sequences, mode=\"binary\")\n",
    "\n",
    "# Split the data into train and test sets\n",
    "train_size = int(len(encoded_sequences) * 0.8)\n",
    "X_train, X_test = encoded_sequences[:train_size], encoded_sequences[train_size:]\n",
    "\n",
    "# Define the LSTM model\n",
    "model = Sequential()\n",
    "model.add(LSTM(256, input_shape=(encoded_sequences.shape[1],)))\n",
    "model.add(Dense(encoded_sequences.shape[1], activation=\"softmax\"))\n",
    "model.compile(loss=\"categorical_crossentropy\", optimizer=\"adam\", metrics=[\"accuracy\"])\n",
    "\n",
    "# Train the model\n",
    "model.fit(X_train, X_train, batch_size=128, epochs=50, validation_data=(X_test, X_test))"
   ]
  },
  {
   "cell_type": "code",
   "execution_count": null,
   "id": "ef51090d",
   "metadata": {},
   "outputs": [],
   "source": [
    "# Define the seed sequence\n",
    "seed_sequence = 'MVHLTPEEK'\n",
    "# Encode the seed sequence as a one-hot vector\n",
    "seed_sequence = np.array([char_to_int[c] for c in seed_sequence])\n",
    "seed_sequence = np_utils.to_categorical(seed_sequence, num_classes=num_classes)\n",
    "seed_sequence = seed_sequence.reshape(1, seed_sequence.shape[0], seed_sequence.shape[1])\n",
    "\n",
    "# Generate new sequences\n",
    "generated_sequence = seed_sequence\n",
    "for i in range(10):\n",
    "    # Predict the next character\n",
    "    next_char_probs = model.predict(generated_sequence)[0,-1,:]\n",
    "    # Sample the next character\n",
    "    next_char = np.random.choice(range(num_classes), p=next_char_probs)\n",
    "    # Append the next character to the generated sequence\n",
    "    generated_sequence = np.concatenate((generated_sequence, np_utils.to_categorical(next_char, num_classes=num_classes).reshape(1,1,num_classes)))\n",
    "\n",
    "# Decode the generated sequence\n",
    "generated_sequence = np.argmax(generated_sequence, axis=-1)\n",
    "generated_sequence = ''.join([int_to_char[c] for c in generated_sequence[0]])\n",
    "print(generated_sequence)"
   ]
  }
 ],
 "metadata": {
  "kernelspec": {
   "display_name": "Python 3 (ipykernel)",
   "language": "python",
   "name": "python3"
  },
  "language_info": {
   "codemirror_mode": {
    "name": "ipython",
    "version": 3
   },
   "file_extension": ".py",
   "mimetype": "text/x-python",
   "name": "python",
   "nbconvert_exporter": "python",
   "pygments_lexer": "ipython3",
   "version": "3.11.1"
  }
 },
 "nbformat": 4,
 "nbformat_minor": 5
}
