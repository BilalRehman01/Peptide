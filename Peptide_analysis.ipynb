{
 "cells": [
  {
   "cell_type": "code",
   "execution_count": null,
   "id": "2767ea4f",
   "metadata": {},
   "outputs": [],
   "source": [
    "from modlamp.analysis import GlobalAnalysis\n",
    "# Save generated sequences to a .txt file\n",
    "with open(\"generated_sequences.txt\", \"w\") as file:\n",
    "    for sequence in generated_sequences:\n",
    "        file.write(sequence + \"\\n\")\n",
    "\n",
    "# Read sequences from the .txt file\n",
    "with open(\"generated_sequences.txt\", \"r\") as file:\n",
    "    sequences = file.readlines()\n",
    "    sequences = [sequence.strip() for sequence in sequences]"
   ]
  },
  {
   "cell_type": "code",
   "execution_count": null,
   "id": "3b2d9156",
   "metadata": {},
   "outputs": [],
   "source": [
    "# Perform analysis\n",
    "ga = GlobalAnalysis(sequences)\n",
    "ga.all()"
   ]
  },
  {
   "cell_type": "code",
   "execution_count": null,
   "id": "a0f98fe1",
   "metadata": {},
   "outputs": [],
   "source": [
    "# save calculated descriptor to a .csv file\n",
    "ga.save_descriptor('location/of/your/outputfile.csv', delimiter=',')"
   ]
  },
  {
   "cell_type": "code",
   "execution_count": null,
   "id": "67ff04ea",
   "metadata": {},
   "outputs": [],
   "source": [
    "import pandas as pd\n",
    "import matplotlib.pyplot as plt\n",
    "\n",
    "# Read the .csv file into a pandas DataFrame\n",
    "df = pd.read_csv('outputfile.csv')\n",
    "\n",
    "# Plot the data\n",
    "plt.plot(df['column_name'])\n",
    "plt.xlabel('X-axis Label')\n",
    "plt.ylabel('Y-axis Label')\n",
    "plt.title('Plot Title')\n",
    "plt.show()"
   ]
  }
 ],
 "metadata": {
  "kernelspec": {
   "display_name": "Python 3 (ipykernel)",
   "language": "python",
   "name": "python3"
  },
  "language_info": {
   "codemirror_mode": {
    "name": "ipython",
    "version": 3
   },
   "file_extension": ".py",
   "mimetype": "text/x-python",
   "name": "python",
   "nbconvert_exporter": "python",
   "pygments_lexer": "ipython3",
   "version": "3.11.1"
  }
 },
 "nbformat": 4,
 "nbformat_minor": 5
}
